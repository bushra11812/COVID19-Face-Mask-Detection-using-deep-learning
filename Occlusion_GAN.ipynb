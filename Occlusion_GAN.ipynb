{
  "nbformat": 4,
  "nbformat_minor": 0,
  "metadata": {
    "colab": {
      "name": "Occlusion and GAN.ipynb",
      "private_outputs": true,
      "provenance": [],
      "mount_file_id": "1ejWsRcp9f4b8dUliQem0RQcmnorIU5Cv",
      "authorship_tag": "ABX9TyPDvda0B+H24uLi94efcrol",
      "include_colab_link": true
    },
    "kernelspec": {
      "name": "python3",
      "display_name": "Python 3"
    }
  },
  "cells": [
    {
      "cell_type": "markdown",
      "metadata": {
        "id": "view-in-github",
        "colab_type": "text"
      },
      "source": [
        "<a href=\"https://colab.research.google.com/github/bushra11812/COVID19-Face-Mask-Detection-using-deep-learning/blob/master/Occlusion_GAN.ipynb\" target=\"_parent\"><img src=\"https://colab.research.google.com/assets/colab-badge.svg\" alt=\"Open In Colab\"/></a>"
      ]
    },
    {
      "cell_type": "code",
      "metadata": {
        "id": "yGXbLwh3heQ2"
      },
      "source": [
        ""
      ],
      "execution_count": null,
      "outputs": []
    },
    {
      "cell_type": "code",
      "metadata": {
        "id": "Pbx-JEbiskUu"
      },
      "source": [
        ""
      ],
      "execution_count": null,
      "outputs": []
    },
    {
      "cell_type": "code",
      "metadata": {
        "id": "e15w2BSQguAf"
      },
      "source": [
        "!git clone https://github.com/ahmetmeleq/Face-Completion---Occlusion-Restoration-GAN"
      ],
      "execution_count": null,
      "outputs": []
    },
    {
      "cell_type": "code",
      "metadata": {
        "id": "H4BY9DEcyCKX"
      },
      "source": [
        "import numpy as np\r\n",
        "import matplotlib.pyplot as plt\r\n",
        "import pickle\r\n",
        "import os\r\n",
        "\r\n",
        "import keras\r\n",
        "import tensorflow as tf\r\n",
        "\r\n",
        "from tensorflow.keras.models import Sequential\r\n",
        "from tensorflow.keras.layers import Activation, Flatten, Dense, Dropout, BatchNormalization, Reshape\r\n",
        "from tensorflow.keras.layers import Conv2D, MaxPooling2D, UpSampling2D, LeakyReLU, Conv2DTranspose, ReLU\r\n",
        "from tensorflow.keras.optimizers import Adam\r\n",
        "from tensorflow.keras import layers\r\n",
        "import datetime\r\n",
        "\r\n",
        "from keras import initializers"
      ],
      "execution_count": null,
      "outputs": []
    },
    {
      "cell_type": "code",
      "metadata": {
        "id": "_LDOD_yYhYEp"
      },
      "source": [
        ""
      ],
      "execution_count": null,
      "outputs": []
    },
    {
      "cell_type": "code",
      "metadata": {
        "id": "u8_SsnysD7Fn"
      },
      "source": [
        "from google.colab import drive\r\n",
        "drive.mount(\"/content/drive\", force_remount=False)"
      ],
      "execution_count": null,
      "outputs": []
    },
    {
      "cell_type": "code",
      "metadata": {
        "id": "pJ1rFQGcEhoY"
      },
      "source": [
        "import gdown \r\n",
        "gdown.download(\"https://drive.google.com/uc?id={0}\".format(\"19li26wV60jhrf8UtUhGH6xuocDqiHqPG\"),\"gt.pickle\",quiet = False)\r\n",
        "gdown.download(\"https://drive.google.com/uc?id={0}\".format(\"179YgtbT7A0YFJsQyFULbQPgPZzdmnySA\"),\"occ.pickle\",quiet = False)"
      ],
      "execution_count": null,
      "outputs": []
    },
    {
      "cell_type": "code",
      "metadata": {
        "id": "hxVV8VsVEvZR"
      },
      "source": [
        "!ls\r\n"
      ],
      "execution_count": null,
      "outputs": []
    },
    {
      "cell_type": "code",
      "metadata": {
        "id": "u1h_HysOE2wC"
      },
      "source": [
        "pickle_in = open(\"occ.pickle\",\"rb\")\r\n",
        "x = pickle.load(pickle_in)\r\n",
        "\r\n",
        "pickle_in = open(\"gt.pickle\",\"rb\")\r\n",
        "y = pickle.load(pickle_in)\r\n"
      ],
      "execution_count": null,
      "outputs": []
    },
    {
      "cell_type": "code",
      "metadata": {
        "id": "0vlle7QUE7EP"
      },
      "source": [
        "from skimage.transform import resize\r\n",
        "\r\n",
        "x = resize(x, (len(x),64,64,1),anti_aliasing=False)\r\n",
        "y= resize(y, (len(y),64,64,1),anti_aliasing=False)"
      ],
      "execution_count": null,
      "outputs": []
    },
    {
      "cell_type": "code",
      "metadata": {
        "id": "FqiOOdmnFDmQ"
      },
      "source": [
        "print(x.shape)\r\n",
        "print(y.shape)"
      ],
      "execution_count": null,
      "outputs": []
    },
    {
      "cell_type": "code",
      "metadata": {
        "id": "plOPxxY4FJNp"
      },
      "source": [
        "fig = plt.figure(figsize = (6,6))\r\n",
        "fig.add_subplot(1,2,1)\r\n",
        "plt.imshow(x[0,:,:,0], cmap = \"gray\")\r\n",
        "fig.add_subplot(1,2,2)\r\n",
        "plt.imshow(y[0,:,:,0], cmap = \"gray\")\r\n"
      ],
      "execution_count": null,
      "outputs": []
    },
    {
      "cell_type": "code",
      "metadata": {
        "id": "3DdMv-h63V8k"
      },
      "source": [
        ""
      ],
      "execution_count": null,
      "outputs": []
    },
    {
      "cell_type": "code",
      "metadata": {
        "id": "ri_QbJ-gFe6r"
      },
      "source": [
        "def creategen():\r\n",
        "  generator = Sequential()\r\n",
        "  \r\n",
        "  generator.add(Conv2D(64,(5,5),strides = (2,2), input_shape = x.shape[1:], padding = \"SAME\", kernel_initializer = \"random_normal\" ))\r\n",
        "  generator.add(BatchNormalization())\r\n",
        "  generator.add(ReLU())\r\n",
        "  generator.add(Dropout(0.3))\r\n",
        "  \r\n",
        "  generator.add(Conv2D(128,(5,5),strides = (2,2), padding = \"SAME\", kernel_initializer = \"random_normal\" ))\r\n",
        "  generator.add(BatchNormalization())\r\n",
        "  generator.add(ReLU())\r\n",
        "  generator.add(Dropout(0.3))\r\n",
        "  \r\n",
        "  generator.add(Conv2D(256,(5,5),strides = (2,2), padding = \"SAME\", kernel_initializer = \"random_normal\" ))\r\n",
        "  generator.add(BatchNormalization())\r\n",
        "  generator.add(ReLU())\r\n",
        "  generator.add(Dropout(0.3))\r\n",
        "  \r\n",
        "  \r\n",
        "  \r\n",
        "  generator.add(Conv2DTranspose(128,(5,5),strides = (2,2), padding = \"SAME\", kernel_initializer = \"random_normal\", use_bias=False ))\r\n",
        "  generator.add(BatchNormalization())\r\n",
        "  generator.add(ReLU())\r\n",
        "  #generator.add(Dropout(0.3))\r\n",
        "  generator.add(Conv2DTranspose(64,(5,5),strides = (2,2), padding = \"SAME\", kernel_initializer = \"random_normal\", use_bias=False ))\r\n",
        "  generator.add(BatchNormalization())\r\n",
        "  generator.add(ReLU())\r\n",
        "  #generator.add(Dropout(0.3))\r\n",
        "  \r\n",
        "  \r\n",
        "  generator.add(Conv2DTranspose(1,(5,5),strides = (2,2), padding = \"SAME\", kernel_initializer = \"random_normal\", use_bias=False, activation = \"sigmoid\" ))\r\n",
        "  \r\n",
        "  return generator\r\n",
        "\r\n",
        "\r\n",
        "\r\n",
        "generator = creategen()"
      ],
      "execution_count": null,
      "outputs": []
    },
    {
      "cell_type": "code",
      "metadata": {
        "id": "zd7Zcz-zFsUh"
      },
      "source": [
        "def create_disc():\r\n",
        "  discriminator = Sequential()\r\n",
        "  \r\n",
        "  discriminator.add(Conv2D(64,(5,5),strides = (2,2), input_shape = x.shape[1:], padding = \"SAME\", kernel_initializer = \"random_normal\" ))\r\n",
        "  discriminator.add(BatchNormalization())\r\n",
        "  discriminator.add(ReLU())\r\n",
        "  discriminator.add(Dropout(0.3))\r\n",
        "  \r\n",
        "  discriminator.add(Conv2D(128,(5,5),strides = (2,2), padding = \"SAME\", kernel_initializer = \"random_normal\" ))\r\n",
        "  discriminator.add(BatchNormalization())\r\n",
        "  discriminator.add(ReLU())\r\n",
        "  discriminator.add(Dropout(0.3))\r\n",
        "  \r\n",
        "  discriminator.add(Conv2D(256,(5,5),strides = (2,2), padding = \"SAME\", kernel_initializer = \"random_normal\" ))\r\n",
        "  discriminator.add(BatchNormalization())\r\n",
        "  discriminator.add(ReLU())\r\n",
        "  discriminator.add(Dropout(0.3))\r\n",
        "  \r\n",
        "  discriminator.add(Flatten())\r\n",
        "  discriminator.add(Dense(1, activation = \"sigmoid\"))\r\n",
        "  \r\n",
        "  return discriminator\r\n",
        "\r\n",
        "\r\n",
        "discriminator = create_disc()"
      ],
      "execution_count": null,
      "outputs": []
    },
    {
      "cell_type": "code",
      "metadata": {
        "id": "t5b44bWKF27z"
      },
      "source": [
        "generator.summary()\r\n"
      ],
      "execution_count": null,
      "outputs": []
    },
    {
      "cell_type": "code",
      "metadata": {
        "id": "D_H2WfqkGDJg"
      },
      "source": [
        "opt_disc = Adam(lr=0.00004)\r\n",
        "discriminator.trainable = True\r\n",
        "discriminator.compile(loss = \"binary_crossentropy\", optimizer = opt_disc)\r\n",
        "discriminator.summary()"
      ],
      "execution_count": null,
      "outputs": []
    },
    {
      "cell_type": "code",
      "metadata": {
        "id": "SYNIiQx2GPTx"
      },
      "source": [
        "opt_gen = Adam(lr=0.00001)\r\n",
        "generator.compile(loss = \"mean_squared_error\", optimizer = opt_disc)\r\n",
        "generator.summary()"
      ],
      "execution_count": null,
      "outputs": []
    },
    {
      "cell_type": "code",
      "metadata": {
        "id": "SzJ0ZXC7GZAv"
      },
      "source": [
        "def creategan(generator,discriminator):\r\n",
        "  gan = Sequential()\r\n",
        "  gan.add(generator)\r\n",
        "  \r\n",
        "  discriminator.trainable = False\r\n",
        "  gan.add(discriminator)\r\n",
        "  \r\n",
        "  return gan\r\n",
        "\r\n",
        "gan = creategan(generator,discriminator)"
      ],
      "execution_count": null,
      "outputs": []
    },
    {
      "cell_type": "code",
      "metadata": {
        "id": "TwHS_hSFGhXW"
      },
      "source": [
        "opt_gan = Adam(lr=0.00001)\r\n",
        "gan.compile(loss = \"binary_crossentropy\", optimizer = opt_gan)\r\n",
        "gan.summary()"
      ],
      "execution_count": null,
      "outputs": []
    },
    {
      "cell_type": "code",
      "metadata": {
        "id": "i4f4cDLrHD0Y"
      },
      "source": [
        "def train (x, y, nepoch):\r\n",
        "    \r\n",
        "  gen_predict = None\r\n",
        "  \r\n",
        "  gan_inp = x\r\n",
        "  gan_label = np.ones(64)\r\n",
        "  gan_predict = None\r\n",
        "  \r\n",
        "  \r\n",
        "  disc_inp = None\r\n",
        "  disc_label = np.zeros(64*2)\r\n",
        "  disc_label[64:] = 1\r\n",
        "  \r\n",
        "  disc_predict = None\r\n",
        "  \r\n",
        "  #sess = tf.Session()\r\n",
        "  for epoch in range(nepoch):\r\n",
        "    for batch_ctr in range(64):\r\n",
        "      \r\n",
        "      gen_predict = generator.predict(gan_inp[batch_ctr*64:(batch_ctr+1)*64])\r\n",
        "      \r\n",
        "      if(epoch%2==0):\r\n",
        "        \r\n",
        "        disc_inp = gen_predict\r\n",
        "        disc_label = np.zeros(64)\r\n",
        "        \r\n",
        "      else:\r\n",
        "        disc_inp = y[batch_ctr*64:(batch_ctr+1)*64]\r\n",
        "        disc_label = np.ones(64)\r\n",
        "        \r\n",
        "        \r\n",
        "      gen_label = y[batch_ctr*64:(batch_ctr+1)*64]\r\n",
        "      \r\n",
        "      d_loss = discriminator.train_on_batch(disc_inp,disc_label)\r\n",
        "      \r\n",
        "      \r\n",
        "      gan_loss = gan.train_on_batch(gan_inp[batch_ctr*64:(batch_ctr+1)*64],\r\n",
        "                                   gan_label)\r\n",
        "      \r\n",
        "      gen_loss = generator.train_on_batch(gan_inp[batch_ctr*64:(batch_ctr+1)*64],gen_label)\r\n",
        "  \r\n",
        "    print(\"Epoch {0} Gan Loss {1} Disc Loss {2} Gen Loss {3}\".format(epoch,gan_loss,d_loss,gen_loss))"
      ],
      "execution_count": null,
      "outputs": []
    },
    {
      "cell_type": "code",
      "metadata": {
        "id": "IID7aGUtHLnO"
      },
      "source": [
        "batch_size = 64\r\n",
        "train(x,y,50)\r\n"
      ],
      "execution_count": null,
      "outputs": []
    },
    {
      "cell_type": "code",
      "metadata": {
        "id": "88zOsBzDMabx"
      },
      "source": [
        "a = 4180\r\n",
        "b = 4190\r\n",
        "\r\n",
        "pred = generator.predict(x[a:b])\r\n",
        "\r\n",
        "fig = plt.figure(figsize = (50,50))\r\n",
        "\r\n",
        "for ctr in range(10):\r\n",
        "  fig.add_subplot(1,10,ctr+1)\r\n",
        "  plt.imshow(np.reshape(x[a+ctr], (64,64)), cmap = \"gray\")\r\n",
        "  \r\n",
        "fig = plt.figure(figsize = (50,50))  \r\n",
        "for ctr in range(10):\r\n",
        "  fig.add_subplot(1,10, ctr+1)\r\n",
        "  plt.imshow(np.reshape(y[a+ctr], (64,64)),cmap = \"gray\")\r\n",
        "  \r\n",
        "fig = plt.figure(figsize = (50,50))  \r\n",
        "for ctr in range(10):\r\n",
        "  fig.add_subplot(1,10, ctr+1)\r\n",
        "  plt.imshow(np.reshape(pred[ctr], (64,64)), cmap = \"gray\")"
      ],
      "execution_count": null,
      "outputs": []
    },
    {
      "cell_type": "code",
      "metadata": {
        "id": "ntBnE0m6rjqD"
      },
      "source": [
        ""
      ],
      "execution_count": null,
      "outputs": []
    }
  ]
}